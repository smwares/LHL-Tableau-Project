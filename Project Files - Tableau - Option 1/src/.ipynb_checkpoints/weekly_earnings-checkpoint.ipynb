{
 "cells": [
  {
   "cell_type": "code",
   "execution_count": 1,
   "id": "70801ffd-459e-4f8b-ae19-fa14f4cac6cf",
   "metadata": {
    "tags": []
   },
   "outputs": [],
   "source": [
    "import pandas as pd\n",
    "import json"
   ]
  },
  {
   "cell_type": "code",
   "execution_count": 3,
   "id": "c1211d46-5414-4675-9191-8333a5224358",
   "metadata": {
    "tags": []
   },
   "outputs": [],
   "source": [
    "with open(\"../data/weekly_earnings.json\", \"r\") as file:\n",
    "    data = json.load(file)"
   ]
  },
  {
   "cell_type": "code",
   "execution_count": 4,
   "id": "cde955ea-c9bb-4603-b331-331c50c84e01",
   "metadata": {
    "tags": []
   },
   "outputs": [],
   "source": [
    "# Make a list of columns for the DataFrame, with 'ph' as placeholder columns that will be culled prior to CSV conversion\n",
    "ph_cols = ['ph1', 'ph2', 'ph3', 'ph4', 'ph5', 'ph6', 'ph7', 'ph8', 'Date', 'ph9', 'Alberta', 'British_Columbia', 'Canada', 'Manitoba', 'New_Brunswick', 'Newfoundland_and_Labrador', 'Nova_Scotia', 'Ontario', 'Prince_Edward_Island', 'Quebec', 'Saskatchewan']\n",
    "weekly_earnings = pd.DataFrame(data=data['data'], columns=ph_cols)"
   ]
  },
  {
   "cell_type": "code",
   "execution_count": 5,
   "id": "b419d7b9-893f-4cc4-bacf-fd7d8a5cb9a8",
   "metadata": {
    "tags": []
   },
   "outputs": [],
   "source": [
    "# Keep only the columns that are relevant\n",
    "weekly_earnings = weekly_earnings[['Date', 'Alberta', 'British_Columbia', 'Canada', 'Manitoba', 'New_Brunswick', 'Newfoundland_and_Labrador', 'Nova_Scotia', 'Ontario', 'Prince_Edward_Island', 'Quebec', 'Saskatchewan']]"
   ]
  },
  {
   "cell_type": "code",
   "execution_count": 6,
   "id": "f97e9cfe-6075-4ccc-9544-899f486501f0",
   "metadata": {
    "tags": []
   },
   "outputs": [],
   "source": [
    "# Export to CSV\n",
    "weekly_earnings.to_csv('../data/weekly_earnings.csv')"
   ]
  },
  {
   "cell_type": "code",
   "execution_count": null,
   "id": "b0637c47-14ce-4fbc-8be3-b90fbbfdd9c8",
   "metadata": {},
   "outputs": [],
   "source": []
  }
 ],
 "metadata": {
  "kernelspec": {
   "display_name": "lhl_env",
   "language": "python",
   "name": "lhl_env"
  },
  "language_info": {
   "codemirror_mode": {
    "name": "ipython",
    "version": 3
   },
   "file_extension": ".py",
   "mimetype": "text/x-python",
   "name": "python",
   "nbconvert_exporter": "python",
   "pygments_lexer": "ipython3",
   "version": "3.9.18"
  }
 },
 "nbformat": 4,
 "nbformat_minor": 5
}
